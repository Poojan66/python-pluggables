{
 "cells": [
  {
   "cell_type": "code",
   "execution_count": null,
   "metadata": {},
   "outputs": [],
   "source": [
    "import pandas as pd\n",
    "\n",
    "class JSONReader:\n",
    "    def __init__(self, file_path):\n",
    "        self.file_path = file_path\n",
    "        \n",
    "    def read(self):\n",
    "        with open(self.file_path) as f:\n",
    "            data = pd.read_json(f)\n",
    "        return data\n",
    "\n",
    "# Example usage:\n",
    "reader = JSONReader(\"data.json\")\n",
    "df = reader.read()\n",
    "print(df.head())\n"
   ]
  }
 ],
 "metadata": {
  "language_info": {
   "name": "python"
  },
  "orig_nbformat": 4
 },
 "nbformat": 4,
 "nbformat_minor": 2
}
