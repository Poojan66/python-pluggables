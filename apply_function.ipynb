{
 "cells": [
  {
   "cell_type": "code",
   "execution_count": null,
   "metadata": {},
   "outputs": [],
   "source": [
    "import pandas as pd\n",
    "\n",
    "class DataFrameProcessor:\n",
    "    def __init__(self, data):\n",
    "        self.df = pd.DataFrame(data)\n",
    "    \n",
    "    def process(self):\n",
    "        # Create a new column using a lambda function\n",
    "        self.df['AgeGroup'] = self.df['Age'].apply(lambda age: 'Young' if age < 30 else 'Old')\n",
    "        \n",
    "        # Print the updated DataFrame\n",
    "        print(self.df)\n",
    "\n",
    "# Example usage\n",
    "data = {'Name': ['Alice', 'Bob', 'Charlie'], 'Age': [25, 30, 35], 'Gender': ['Female', 'Male', 'Male']}\n",
    "processor = DataFrameProcessor(data)\n",
    "processor.process()\n"
   ]
  }
 ],
 "metadata": {
  "kernelspec": {
   "display_name": "Python 3.10.11 64-bit (microsoft store)",
   "language": "python",
   "name": "python3"
  },
  "language_info": {
   "name": "python",
   "version": "3.10.11"
  },
  "orig_nbformat": 4,
  "vscode": {
   "interpreter": {
    "hash": "0d49ef4a39ca1d4e6c0fdfd64be5944530ed4259e6defc9eb3171ab37c80faef"
   }
  }
 },
 "nbformat": 4,
 "nbformat_minor": 2
}
