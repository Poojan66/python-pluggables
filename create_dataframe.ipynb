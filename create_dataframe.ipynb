{
 "cells": [
  {
   "cell_type": "code",
   "execution_count": 1,
   "metadata": {},
   "outputs": [
    {
     "name": "stdout",
     "output_type": "stream",
     "text": [
      "      Name  Age  Gender\n",
      "0    Alice   25  Female\n",
      "1      Bob   30    Male\n",
      "2  Charlie   35    Male\n"
     ]
    }
   ],
   "source": [
    "import pandas as pd\n",
    "\n",
    "class DataFrameGenerator:\n",
    "    def __init__(self, columns, data):\n",
    "        self.columns = columns\n",
    "        self.data = data\n",
    "    \n",
    "    def generate(self):\n",
    "        return pd.DataFrame(self.data, columns=self.columns)\n",
    "\n",
    "# Example usage\n",
    "columns = [\"Name\", \"Age\", \"Gender\"]\n",
    "data = [\n",
    "    [\"Alice\", 25, \"Female\"],\n",
    "    [\"Bob\", 30, \"Male\"],\n",
    "    [\"Charlie\", 35, \"Male\"]\n",
    "]\n",
    "\n",
    "generator = DataFrameGenerator(columns, data)\n",
    "df = generator.generate()\n",
    "\n",
    "print(df)\n"
   ]
  },
  {
   "cell_type": "code",
   "execution_count": null,
   "metadata": {},
   "outputs": [],
   "source": [
    "# import pandas as pd\n",
    "\n",
    "class DataFrameGenerator:\n",
    "    def __init__(self, data_dict):\n",
    "        self.data_dict = data_dict\n",
    "    \n",
    "    def generate(self):\n",
    "        return pd.DataFrame.from_dict(self.data_dict)\n",
    "\n",
    "# Example usage\n",
    "data_dict = {\n",
    "    \"Name\": [\"Alice\", \"Bob\", \"Charlie\"],\n",
    "    \"Age\": [25, 30, 35],\n",
    "    \"Gender\": [\"Female\", \"Male\", \"Male\"]\n",
    "}\n",
    "\n",
    "generator = DataFrameGenerator(data_dict)\n",
    "df = generator.generate()\n",
    "\n",
    "print(df)\n"
   ]
  }
 ],
 "metadata": {
  "kernelspec": {
   "display_name": "Python 3.10.11 64-bit (microsoft store)",
   "language": "python",
   "name": "python3"
  },
  "language_info": {
   "codemirror_mode": {
    "name": "ipython",
    "version": 3
   },
   "file_extension": ".py",
   "mimetype": "text/x-python",
   "name": "python",
   "nbconvert_exporter": "python",
   "pygments_lexer": "ipython3",
   "version": "3.10.11"
  },
  "orig_nbformat": 4,
  "vscode": {
   "interpreter": {
    "hash": "0d49ef4a39ca1d4e6c0fdfd64be5944530ed4259e6defc9eb3171ab37c80faef"
   }
  }
 },
 "nbformat": 4,
 "nbformat_minor": 2
}
