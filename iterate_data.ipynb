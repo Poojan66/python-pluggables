{
 "cells": [
  {
   "cell_type": "code",
   "execution_count": null,
   "metadata": {},
   "outputs": [],
   "source": [
    "import pandas as pd\n",
    "\n",
    "class DataFrameProcessor:\n",
    "    def __init__(self, data):\n",
    "        self.df = pd.DataFrame(data)\n",
    "    \n",
    "    def process(self):\n",
    "        for column_name, column_data in self.df.iteritems():\n",
    "            print(f\"Column: {column_name}\")\n",
    "            for index, value in column_data.items():\n",
    "                print(f\"  Row {index}: {value}\")\n",
    "\n",
    "# Example usage\n",
    "data = {'Name': ['Alice', 'Bob', 'Charlie'], 'Age': [25, 30, 35], 'Gender': ['Female', 'Male', 'Male']}\n",
    "processor = DataFrameProcessor(data)\n",
    "processor.process()\n"
   ]
  }
 ],
 "metadata": {
  "language_info": {
   "name": "python"
  },
  "orig_nbformat": 4
 },
 "nbformat": 4,
 "nbformat_minor": 2
}
