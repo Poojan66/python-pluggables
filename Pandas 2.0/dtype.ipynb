{
 "cells": [
  {
   "cell_type": "code",
   "execution_count": 2,
   "metadata": {},
   "outputs": [],
   "source": [
    "import pandas as pd\n",
    "import numpy as np"
   ]
  },
  {
   "cell_type": "code",
   "execution_count": 4,
   "metadata": {},
   "outputs": [
    {
     "data": {
      "text/plain": [
       "Index([1.0, 2.0, 3.0], dtype='float32')"
      ]
     },
     "execution_count": 4,
     "metadata": {},
     "output_type": "execute_result"
    }
   ],
   "source": [
    "#  Index should be used directly, and can it now take all numpy numeric dtypes, \n",
    "# i.e. int8/ int16/int32/int64/uint8/uint16/uint32/uint64/float32/float64 dtypes:\n",
    "pd.Index([1, 2, 3], dtype=np.int8)\n",
    "\n",
    "pd.Index([1, 2, 3], dtype=np.uint16)\n",
    "\n",
    "pd.Index([1, 2, 3], dtype=np.float32)\n"
   ]
  },
  {
   "cell_type": "code",
   "execution_count": null,
   "metadata": {},
   "outputs": [],
   "source": []
  }
 ],
 "metadata": {
  "kernelspec": {
   "display_name": "Python 3.8.10 64-bit",
   "language": "python",
   "name": "python3"
  },
  "language_info": {
   "codemirror_mode": {
    "name": "ipython",
    "version": 3
   },
   "file_extension": ".py",
   "mimetype": "text/x-python",
   "name": "python",
   "nbconvert_exporter": "python",
   "pygments_lexer": "ipython3",
   "version": "3.8.10"
  },
  "orig_nbformat": 4,
  "vscode": {
   "interpreter": {
    "hash": "9362e62532cde2a984141d28a5114df326eb29442b0b0bf11b54a1bacef138ea"
   }
  }
 },
 "nbformat": 4,
 "nbformat_minor": 2
}
