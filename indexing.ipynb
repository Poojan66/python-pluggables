{
 "cells": [
  {
   "cell_type": "code",
   "execution_count": null,
   "metadata": {},
   "outputs": [],
   "source": [
    "import pandas as pd\n",
    "\n",
    "# create a sample dataframe\n",
    "data = {\n",
    "    'name': ['Alice', 'Bob', 'Charlie', 'David', 'Emily'],\n",
    "    'age': [25, 30, 35, 40, 45],\n",
    "    'salary': [50000, 60000, 70000, 80000, 90000],\n",
    "    'country': ['USA', 'Canada', 'USA', 'Canada', 'USA']\n",
    "}\n",
    "df = pd.DataFrame(data)\n",
    "\n",
    "# select a single column using column name\n",
    "df['name']\n",
    "\n",
    "# select multiple columns using a list of column names\n",
    "df[['name', 'age']]\n",
    "\n",
    "# select rows based on a condition\n",
    "df[df['salary'] > 65000]\n",
    "\n",
    "# select rows and columns using .loc - label based indexing\n",
    "df.loc[[1, 3, 4], ['name', 'age']]\n",
    "\n",
    "# select rows and columns using .iloc - positional indexing\n",
    "df.iloc[[0, 2], [0, 2]]\n",
    "\n",
    "# select a single cell using .at - label based indexing\n",
    "df.at[2, 'salary']\n",
    "\n",
    "# select a single cell using .iat - positional indexing\n",
    "df.iat[3, 2]\n"
   ]
  }
 ],
 "metadata": {
  "kernelspec": {
   "display_name": "Python 3.10.11 64-bit (microsoft store)",
   "language": "python",
   "name": "python3"
  },
  "language_info": {
   "name": "python",
   "version": "3.10.11"
  },
  "orig_nbformat": 4,
  "vscode": {
   "interpreter": {
    "hash": "0d49ef4a39ca1d4e6c0fdfd64be5944530ed4259e6defc9eb3171ab37c80faef"
   }
  }
 },
 "nbformat": 4,
 "nbformat_minor": 2
}
