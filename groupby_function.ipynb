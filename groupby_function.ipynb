{
 "cells": [
  {
   "cell_type": "code",
   "execution_count": null,
   "metadata": {},
   "outputs": [],
   "source": [
    "import pandas as pd\n",
    "\n",
    "class DataFrameProcessor:\n",
    "    def __init__(self, data):\n",
    "        self.df = pd.DataFrame(data)\n",
    "    \n",
    "    def groupby(self, group_column, agg_func):\n",
    "        # Group the DataFrame by a column and apply an aggregation function\n",
    "        result = self.df.groupby(group_column).agg(agg_func)\n",
    "        return result\n",
    "\n",
    "data = {'name': ['Alice', 'Bob', 'Charlie', 'Alice', 'Charlie'],\n",
    "        'age': [25, 30, 35, 40, 45],\n",
    "        'gender': ['F', 'M', 'M', 'F', 'M'],\n",
    "        'income': [50000, 60000, 70000, 80000, 90000]}\n",
    "\n",
    "df_processor = DataFrameProcessor(data)\n",
    "\n",
    "# Group the DataFrame by gender and calculate the mean income for each group\n",
    "result = df_processor.groupby('gender', {'income': 'mean'})\n",
    "\n",
    "# View the result\n",
    "print(result)\n"
   ]
  }
 ],
 "metadata": {
  "kernelspec": {
   "display_name": "Python 3.10.11 64-bit (microsoft store)",
   "language": "python",
   "name": "python3"
  },
  "language_info": {
   "name": "python",
   "version": "3.10.11"
  },
  "orig_nbformat": 4,
  "vscode": {
   "interpreter": {
    "hash": "0d49ef4a39ca1d4e6c0fdfd64be5944530ed4259e6defc9eb3171ab37c80faef"
   }
  }
 },
 "nbformat": 4,
 "nbformat_minor": 2
}
