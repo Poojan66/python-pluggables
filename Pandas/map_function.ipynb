{
 "cells": [
  {
   "cell_type": "code",
   "execution_count": null,
   "metadata": {},
   "outputs": [],
   "source": [
    "import pandas as pd\n",
    "\n",
    "class DataFrameProcessor:\n",
    "    def __init__(self, data):\n",
    "        self.df = pd.DataFrame(data)\n",
    "    \n",
    "    def replace_values(self, column, value_map):\n",
    "        # Replace values in a column using a dictionary\n",
    "        self.df[column] = self.df[column].map(value_map)\n",
    "\n",
    "data = {'name': ['Alice', 'Bob', 'Charlie'],\n",
    "        'age': [25, 30, 35],\n",
    "        'gender': ['F', 'M', 'M']}\n",
    "\n",
    "df_processor = DataFrameProcessor(data)\n",
    "\n",
    "# Define the value map\n",
    "value_map = {'F': 'Female', 'M': 'Male'}\n",
    "\n",
    "# Replace values in the 'gender' column\n",
    "df_processor.replace_values('gender', value_map)\n",
    "\n",
    "# View the updated DataFrame\n",
    "print(df_processor.df)\n",
    "\n"
   ]
  }
 ],
 "metadata": {
  "language_info": {
   "name": "python"
  },
  "orig_nbformat": 4
 },
 "nbformat": 4,
 "nbformat_minor": 2
}
