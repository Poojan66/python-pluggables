{
 "cells": [
  {
   "cell_type": "code",
   "execution_count": 1,
   "metadata": {},
   "outputs": [
    {
     "name": "stdout",
     "output_type": "stream",
     "text": [
      "      Name  Age  Salary  Height\n",
      "0    Alice -1.0    -1.0    -1.0\n",
      "1      Bob  0.0     0.0     0.0\n",
      "2  Charlie  1.0     1.0     1.0\n"
     ]
    }
   ],
   "source": [
    "import pandas as pd\n",
    "\n",
    "class DataFrameProcessor:\n",
    "    def __init__(self, data):\n",
    "        self.df = pd.DataFrame(data)\n",
    "    \n",
    "    def process(self):\n",
    "        # Define a function to calculate the z-score for each column\n",
    "        zscore = lambda x: (x - x.mean()) / x.std()\n",
    "        \n",
    "        # Apply the z-score function to the numeric columns of the DataFrame\n",
    "        numeric_cols = self.df.select_dtypes(include=['int64', 'float64']).columns\n",
    "        self.df[numeric_cols] = self.df[numeric_cols].transform(zscore)\n",
    "        \n",
    "        # Print the updated DataFrame\n",
    "        print(self.df)\n",
    "\n",
    "# Example usage\n",
    "data = {'Name': ['Alice', 'Bob', 'Charlie'], 'Age': [25, 30, 35], 'Salary': [50000, 60000, 70000], 'Height': [5.5, 6.0, 6.5]}\n",
    "processor = DataFrameProcessor(data)\n",
    "processor.process()\n"
   ]
  },
  {
   "cell_type": "code",
   "execution_count": null,
   "metadata": {},
   "outputs": [],
   "source": []
  }
 ],
 "metadata": {
  "kernelspec": {
   "display_name": "Python 3.10.11 64-bit (microsoft store)",
   "language": "python",
   "name": "python3"
  },
  "language_info": {
   "codemirror_mode": {
    "name": "ipython",
    "version": 3
   },
   "file_extension": ".py",
   "mimetype": "text/x-python",
   "name": "python",
   "nbconvert_exporter": "python",
   "pygments_lexer": "ipython3",
   "version": "3.10.11"
  },
  "orig_nbformat": 4,
  "vscode": {
   "interpreter": {
    "hash": "0d49ef4a39ca1d4e6c0fdfd64be5944530ed4259e6defc9eb3171ab37c80faef"
   }
  }
 },
 "nbformat": 4,
 "nbformat_minor": 2
}
