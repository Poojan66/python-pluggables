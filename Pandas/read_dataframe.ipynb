{
 "cells": [
  {
   "cell_type": "code",
   "execution_count": 2,
   "metadata": {},
   "outputs": [
    {
     "name": "stdout",
     "output_type": "stream",
     "text": [
      "<class 'pandas.core.frame.DataFrame'>\n",
      "RangeIndex: 627920 entries, 0 to 627919\n",
      "Data columns (total 14 columns):\n",
      " #   Column          Non-Null Count   Dtype  \n",
      "---  ------          --------------   -----  \n",
      " 0   UID             627920 non-null  int64  \n",
      " 1   iso2            627920 non-null  object \n",
      " 2   iso3            627920 non-null  object \n",
      " 3   code3           627920 non-null  int64  \n",
      " 4   FIPS            626040 non-null  float64\n",
      " 5   Admin2          626792 non-null  object \n",
      " 6   Province_State  627920 non-null  object \n",
      " 7   Country_Region  627920 non-null  object \n",
      " 8   Lat             627920 non-null  float64\n",
      " 9   Long_           627920 non-null  float64\n",
      " 10  Combined_Key    627920 non-null  object \n",
      " 11  Date            627920 non-null  object \n",
      " 12  Confirmed       627920 non-null  int64  \n",
      " 13  Deaths          627920 non-null  int64  \n",
      "dtypes: float64(3), int64(4), object(7)\n",
      "memory usage: 67.1+ MB\n"
     ]
    }
   ],
   "source": [
    "import pandas as pd\n",
    "\n",
    "class DataFrameReader:\n",
    "    def __init__(self, file_path):\n",
    "        self.file_path = file_path\n",
    "        self.reader = None\n",
    "        \n",
    "    def set_reader(self, reader):\n",
    "        self.reader = reader\n",
    "    \n",
    "    def read(self):\n",
    "        if not self.reader:\n",
    "            raise ValueError(\"No reader has been set.\")\n",
    "        return self.reader(self.file_path)\n",
    "    \n",
    "# Define reader functions\n",
    "def csv_reader(file_path):\n",
    "    return pd.read_csv(file_path)\n",
    "\n",
    "def excel_reader(file_path):\n",
    "    return pd.read_excel(file_path)\n",
    "\n",
    "# Example usage\n",
    "file_path = \"../Data/usa_county_wise.csv\"\n",
    "\n",
    "# Create a DataFrameReader object and set the reader function\n",
    "reader = DataFrameReader(file_path)\n",
    "reader.set_reader(csv_reader)\n",
    "\n",
    "# Read the DataFrame using the set reader function\n",
    "df = reader.read()\n",
    "df.info()"
   ]
  },
  {
   "cell_type": "code",
   "execution_count": null,
   "metadata": {},
   "outputs": [],
   "source": []
  }
 ],
 "metadata": {
  "kernelspec": {
   "display_name": "Python 3.8.10 64-bit",
   "language": "python",
   "name": "python3"
  },
  "language_info": {
   "codemirror_mode": {
    "name": "ipython",
    "version": 3
   },
   "file_extension": ".py",
   "mimetype": "text/x-python",
   "name": "python",
   "nbconvert_exporter": "python",
   "pygments_lexer": "ipython3",
   "version": "3.8.10"
  },
  "orig_nbformat": 4,
  "vscode": {
   "interpreter": {
    "hash": "9362e62532cde2a984141d28a5114df326eb29442b0b0bf11b54a1bacef138ea"
   }
  }
 },
 "nbformat": 4,
 "nbformat_minor": 2
}
