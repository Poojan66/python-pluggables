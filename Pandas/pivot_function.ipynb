{
 "cells": [
  {
   "cell_type": "code",
   "execution_count": null,
   "metadata": {},
   "outputs": [],
   "source": [
    "import pandas as pd\n",
    "\n",
    "class DataFrameProcessor:\n",
    "    def __init__(self, data):\n",
    "        self.df = pd.DataFrame(data)\n",
    "    \n",
    "    def pivot_table(self, index_columns, columns, values, agg_func):\n",
    "        # Pivot the DataFrame with specified index, column and value columns, and apply an aggregation function\n",
    "        result = pd.pivot_table(self.df, index=index_columns, columns=columns, values=values, aggfunc=agg_func)\n",
    "        return result\n",
    "\n",
    "data = {'name': ['Alice', 'Bob', 'Charlie', 'Alice', 'Charlie'],\n",
    "        'year': [2010, 2010, 2011, 2011, 2011],\n",
    "        'gender': ['F', 'M', 'M', 'F', 'M'],\n",
    "        'income': [50000, 60000, 70000, 80000, 90000]}\n",
    "\n",
    "df_processor = DataFrameProcessor(data)\n",
    "\n",
    "# Pivot the DataFrame to show income by year and gender, and calculate the mean income for each group\n",
    "result = df_processor.pivot_table(['year'], 'gender', 'income', 'mean')\n",
    "\n",
    "# View the result\n",
    "print(result)\n"
   ]
  }
 ],
 "metadata": {
  "language_info": {
   "name": "python"
  },
  "orig_nbformat": 4
 },
 "nbformat": 4,
 "nbformat_minor": 2
}
