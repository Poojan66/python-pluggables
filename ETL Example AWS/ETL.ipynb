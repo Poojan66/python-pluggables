{
 "cells": [
  {
   "cell_type": "code",
   "execution_count": null,
   "metadata": {},
   "outputs": [],
   "source": [
    "import pandas as pd\n",
    "import numpy as np\n",
    "import boto3"
   ]
  },
  {
   "cell_type": "code",
   "execution_count": null,
   "metadata": {},
   "outputs": [],
   "source": [
    "# Extract\n",
    "data = pd.read_csv('input_file.csv')"
   ]
  },
  {
   "cell_type": "code",
   "execution_count": null,
   "metadata": {},
   "outputs": [],
   "source": [
    "# Transform\n",
    "data = data.drop_duplicates()  # remove duplicates\n",
    "data['date'] = pd.to_datetime(data['date'])  # convert date column to datetime object\n",
    "data['sales'] = data['sales'] * 2  # double the sales column"
   ]
  },
  {
   "cell_type": "code",
   "execution_count": null,
   "metadata": {},
   "outputs": [],
   "source": [
    "# Load\n",
    "s3 = boto3.resource('s3')\n",
    "bucket = s3.Bucket('my-bucket')\n",
    "object_key = 'output_file.csv'\n",
    "bucket.put_object(Key=object_key, Body=data.to_csv(index=False))"
   ]
  }
 ],
 "metadata": {
  "kernelspec": {
   "display_name": "Python 3.8.10 64-bit",
   "language": "python",
   "name": "python3"
  },
  "language_info": {
   "codemirror_mode": {
    "name": "ipython",
    "version": 3
   },
   "file_extension": ".py",
   "mimetype": "text/x-python",
   "name": "python",
   "nbconvert_exporter": "python",
   "pygments_lexer": "ipython3",
   "version": "3.8.10"
  },
  "orig_nbformat": 4,
  "vscode": {
   "interpreter": {
    "hash": "9362e62532cde2a984141d28a5114df326eb29442b0b0bf11b54a1bacef138ea"
   }
  }
 },
 "nbformat": 4,
 "nbformat_minor": 2
}
